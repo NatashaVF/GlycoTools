{
 "cells": [
  {
   "cell_type": "code",
   "execution_count": 3,
   "metadata": {},
   "outputs": [],
   "source": [
    "###Import GlycoPredicter###\n",
    "from src import glyco_predicter"
   ]
  },
  {
   "cell_type": "code",
   "execution_count": 4,
   "metadata": {},
   "outputs": [
    {
     "name": "stdout",
     "output_type": "stream",
     "text": [
      "Added OHE donor columns: 2\n",
      "Added OHE acceptor columns: 3\n"
     ]
    },
    {
     "data": {
      "text/html": [
       "<div>\n",
       "<style scoped>\n",
       "    .dataframe tbody tr th:only-of-type {\n",
       "        vertical-align: middle;\n",
       "    }\n",
       "\n",
       "    .dataframe tbody tr th {\n",
       "        vertical-align: top;\n",
       "    }\n",
       "\n",
       "    .dataframe thead th {\n",
       "        text-align: right;\n",
       "    }\n",
       "</style>\n",
       "<table border=\"1\" class=\"dataframe\">\n",
       "  <thead>\n",
       "    <tr style=\"text-align: right;\">\n",
       "      <th></th>\n",
       "      <th>rxnsmiles</th>\n",
       "      <th>temperature_C</th>\n",
       "      <th>solvent_smiles</th>\n",
       "      <th>activator_smiles</th>\n",
       "      <th>donor_type</th>\n",
       "      <th>acceptor_type</th>\n",
       "      <th>donor_conf</th>\n",
       "      <th>activator</th>\n",
       "      <th>activator_fp</th>\n",
       "      <th>solvent_fp</th>\n",
       "      <th>...</th>\n",
       "      <th>activator_list</th>\n",
       "      <th>donor_type_ohe_pyranose</th>\n",
       "      <th>acceptor_type_ohe_O</th>\n",
       "      <th>donor_type_ohe_furanose</th>\n",
       "      <th>acceptor_type_ohe_N</th>\n",
       "      <th>acceptor_type_ohe_S</th>\n",
       "      <th>Predicted Major Conf</th>\n",
       "      <th>Predicted Major Ano</th>\n",
       "      <th>Predicted Minor Producted</th>\n",
       "      <th>Predicted Ratio (%pos)</th>\n",
       "    </tr>\n",
       "  </thead>\n",
       "  <tbody>\n",
       "    <tr>\n",
       "      <th>0</th>\n",
       "      <td>[CH3:1][O:2][C@H:3]1[O:4][C@H:5]([CH2:6][OH:7]...</td>\n",
       "      <td>25</td>\n",
       "      <td>['CC(Cl)Cl']</td>\n",
       "      <td>C(F)(F)(F)S(=O)(=O)O</td>\n",
       "      <td>pyranose</td>\n",
       "      <td>O</td>\n",
       "      <td>[-1, -1, 1, -1, 1]</td>\n",
       "      <td>C(F)(F)(F)S(=O)(=O)O</td>\n",
       "      <td>[0, 0, 0, 0, 0, 0, 0, 0, 0, 0, 0, 0, 0, 0, 0, ...</td>\n",
       "      <td>[0.0, 1.0, 0.0, 0.0, 0.0, 0.0, 0.0, 0.0, 0.0, ...</td>\n",
       "      <td>...</td>\n",
       "      <td></td>\n",
       "      <td>1</td>\n",
       "      <td>1</td>\n",
       "      <td>0</td>\n",
       "      <td>0</td>\n",
       "      <td>0</td>\n",
       "      <td>-1</td>\n",
       "      <td>alpha</td>\n",
       "      <td>1</td>\n",
       "      <td>54.42728794453875</td>\n",
       "    </tr>\n",
       "  </tbody>\n",
       "</table>\n",
       "<p>1 rows × 27 columns</p>\n",
       "</div>"
      ],
      "text/plain": [
       "                                           rxnsmiles  temperature_C  \\\n",
       "0  [CH3:1][O:2][C@H:3]1[O:4][C@H:5]([CH2:6][OH:7]...             25   \n",
       "\n",
       "  solvent_smiles      activator_smiles donor_type acceptor_type  \\\n",
       "0   ['CC(Cl)Cl']  C(F)(F)(F)S(=O)(=O)O   pyranose             O   \n",
       "\n",
       "           donor_conf             activator  \\\n",
       "0  [-1, -1, 1, -1, 1]  C(F)(F)(F)S(=O)(=O)O   \n",
       "\n",
       "                                        activator_fp  \\\n",
       "0  [0, 0, 0, 0, 0, 0, 0, 0, 0, 0, 0, 0, 0, 0, 0, ...   \n",
       "\n",
       "                                          solvent_fp  ... activator_list  \\\n",
       "0  [0.0, 1.0, 0.0, 0.0, 0.0, 0.0, 0.0, 0.0, 0.0, ...  ...                  \n",
       "\n",
       "  donor_type_ohe_pyranose acceptor_type_ohe_O donor_type_ohe_furanose  \\\n",
       "0                       1                   1                       0   \n",
       "\n",
       "  acceptor_type_ohe_N acceptor_type_ohe_S Predicted Major Conf  \\\n",
       "0                   0                   0                   -1   \n",
       "\n",
       "  Predicted Major Ano  Predicted Minor Producted  Predicted Ratio (%pos)  \n",
       "0               alpha                          1       54.42728794453875  \n",
       "\n",
       "[1 rows x 27 columns]"
      ]
     },
     "execution_count": 4,
     "metadata": {},
     "output_type": "execute_result"
    }
   ],
   "source": [
    "###Predict using glycopredicter###\n",
    "glyco_predicter.predict('data/my_glycosylation.csv', save_name='my_glycosylation_predictions')"
   ]
  }
 ],
 "metadata": {
  "kernelspec": {
   "display_name": "glycotools",
   "language": "python",
   "name": "python3"
  },
  "language_info": {
   "codemirror_mode": {
    "name": "ipython",
    "version": 3
   },
   "file_extension": ".py",
   "mimetype": "text/x-python",
   "name": "python",
   "nbconvert_exporter": "python",
   "pygments_lexer": "ipython3",
   "version": "3.9.18"
  }
 },
 "nbformat": 4,
 "nbformat_minor": 2
}
